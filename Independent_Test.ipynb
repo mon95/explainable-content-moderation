{
 "cells": [
  {
   "cell_type": "code",
   "execution_count": 1,
   "metadata": {},
   "outputs": [
    {
     "name": "stdout",
     "output_type": "stream",
     "text": [
      "PyTorch Version:  1.3.0\n",
      "Torchvision Version:  0.4.1a0+d94043a\n"
     ]
    }
   ],
   "source": [
    "from __future__ import print_function\n",
    "from __future__ import division\n",
    "import torch\n",
    "import torch.nn as nn\n",
    "import torch.optim as optim\n",
    "import numpy as np\n",
    "import torchvision\n",
    "from torchvision import datasets, models, transforms\n",
    "import matplotlib.pyplot as plt\n",
    "import time\n",
    "import os\n",
    "import copy\n",
    "print(\"PyTorch Version: \",torch.__version__)\n",
    "print(\"Torchvision Version: \",torchvision.__version__)"
   ]
  },
  {
   "cell_type": "code",
   "execution_count": 2,
   "metadata": {},
   "outputs": [
    {
     "name": "stdout",
     "output_type": "stream",
     "text": [
      "Initializing to use pre-trained Resnet 18 for feature extraction...\n",
      "Loading saved model...\n",
      "Running tests...\n",
      "Accuracy (Sklearn): 0.832723644828733\n",
      "F1-Score (Sklearn): 0.8489035746470411\n",
      "Precision Score: 0.7750959956116292\n",
      "Recall Score: 0.9382470119521913\n",
      "\n",
      "Confusion Matrix:\n",
      "[[1091  410]\n",
      " [  93 1413]]\n",
      "\n",
      "Classification Report:\n",
      "              precision    recall  f1-score   support\n",
      "\n",
      "           0       0.92      0.73      0.81      1501\n",
      "           1       0.78      0.94      0.85      1506\n",
      "\n",
      "    accuracy                           0.83      3007\n",
      "   macro avg       0.85      0.83      0.83      3007\n",
      "weighted avg       0.85      0.83      0.83      3007\n",
      "\n",
      "\n",
      "\n",
      "Accuracy of the network on the test images: 83 %\n"
     ]
    }
   ],
   "source": [
    "import os\n",
    "import sys\n",
    "code_dir = os.getcwd() + '/code'\n",
    "# ppdir = os.path.dirname(parentdir)\n",
    "if code_dir not in sys.path:\n",
    "    sys.path.append(code_dir) \n",
    "# if ppdir not in sys.path:\n",
    "#     sys.path.append(ppdir)\n",
    "\n",
    "from classifier import Classifier\n",
    "from optimizer import Optimizer\n",
    "from dataset import DataSet\n",
    "\n",
    "# Initialize\n",
    "batch_size = 4\n",
    "data_dir = 'data'\n",
    "model_name = 'resnet'\n",
    "output_classes = 2\n",
    "dataloaders, dataset_sizes, class_names = DataSet.initDataLoaders(data_dir, batch_size)\n",
    "resnetClassifier = Classifier(model_name, output_classes)\n",
    "model = resnetClassifier.initPretrainedModel(224)\n",
    "\n",
    "# Load saved model\n",
    "print(\"Loading saved model...\")\n",
    "state = torch.load('trainedModels/resnetFeatureExtraction2.pt')\n",
    "model.load_state_dict(state['model_state_dict'])\n",
    "\n",
    "# Run test\n",
    "print(\"Running tests...\")\n",
    "predictions = resnetClassifier.testModel(dataloaders, model, class_names, dataset_sizes, batch_size=4)"
   ]
  },
  {
   "cell_type": "code",
   "execution_count": 3,
   "metadata": {},
   "outputs": [
    {
     "data": {
      "text/plain": [
       "'/home/sreehs/Documents/Courses/CV/Project/cs6476-computervision-project'"
      ]
     },
     "execution_count": 3,
     "metadata": {},
     "output_type": "execute_result"
    }
   ],
   "source": [
    "os.getcwd()"
   ]
  },
  {
   "cell_type": "code",
   "execution_count": null,
   "metadata": {},
   "outputs": [],
   "source": []
  }
 ],
 "metadata": {
  "kernelspec": {
   "display_name": "Python 3",
   "language": "python",
   "name": "python3"
  },
  "language_info": {
   "codemirror_mode": {
    "name": "ipython",
    "version": 3
   },
   "file_extension": ".py",
   "mimetype": "text/x-python",
   "name": "python",
   "nbconvert_exporter": "python",
   "pygments_lexer": "ipython3",
   "version": "3.7.3"
  }
 },
 "nbformat": 4,
 "nbformat_minor": 2
}
